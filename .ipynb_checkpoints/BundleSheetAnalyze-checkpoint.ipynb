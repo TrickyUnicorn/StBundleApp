{
 "cells": [
  {
   "cell_type": "code",
   "execution_count": 1,
   "id": "dc8d7fee-e1b8-4dc6-b734-29f9ce949ca4",
   "metadata": {
    "tags": []
   },
   "outputs": [],
   "source": [
    "import pandas as pd\n",
    "import re\n",
    "import os\n",
    "import networkx as nx\n",
    "import matplotlib.pyplot as plt\n",
    "import json"
   ]
  },
  {
   "cell_type": "code",
   "execution_count": null,
   "id": "696d6820-edf1-46ae-98bd-7b50c648c9ca",
   "metadata": {},
   "outputs": [],
   "source": []
  },
  {
   "cell_type": "code",
   "execution_count": 2,
   "id": "39e5d68d-7971-41cd-ba3a-e0fe62009026",
   "metadata": {
    "tags": []
   },
   "outputs": [],
   "source": [
    "#parameters\n",
    "#file_path_list = ['BundleSheets/Mapping pozycji.txt', 'BundleSheets/Mapping2023.txt','BundleSheets/Cenniki merchantów 2023.txt']\n",
    "# Define the path to your directory\n",
    "directory_path = 'BundleSheets/'\n",
    "\n",
    "# List all files in the directory and filter for .txt files\n",
    "file_path_list = [os.path.join(directory_path, file) for file in os.listdir(directory_path) if file.endswith('.txt')]\n"
   ]
  },
  {
   "cell_type": "markdown",
   "id": "92be8b94-593a-4c07-a4ba-49de3b399b0e",
   "metadata": {},
   "source": [
    "## Sheet relations"
   ]
  },
  {
   "cell_type": "code",
   "execution_count": 3,
   "id": "4977af4a-0182-4a6c-8030-65b99dc68cb3",
   "metadata": {
    "tags": []
   },
   "outputs": [],
   "source": [
    "sheet_relations={}\n",
    "\n",
    "for file_path in file_path_list:\n",
    "    # Read the content of the newly uploaded file\n",
    "    with open(file_path, 'r', encoding='utf-8') as newest_file:\n",
    "        newest_file_content = newest_file.read()\n",
    "\n",
    "    # Find sheet names in the new file's content\n",
    "    newest_sheet_names = re.findall(\";'?[A-Za-z0-9\\sąćęłńóśżźĄĆĘŁŃÓŚŻŹ]+'?!\", newest_file_content)\n",
    "\n",
    "\n",
    "    # Remove duplicates by converting the list to a set, then back to a list\n",
    "    clean_newest_sheet_names= [item.replace('\\'','').replace('!','').replace(';','') for item in newest_sheet_names]\n",
    "    unique_newest_sheet_names=list(set(clean_newest_sheet_names))\n",
    "    \n",
    "    # Add do dictonary\n",
    "    sheet_name = file_path.split('/')[-1].replace('.txt', '')\n",
    "    sheet_relations[sheet_name]=unique_newest_sheet_names"
   ]
  },
  {
   "cell_type": "code",
   "execution_count": 4,
   "id": "f1186de0-acc9-44f7-92a8-35bb5e76f7a0",
   "metadata": {
    "tags": []
   },
   "outputs": [
    {
     "data": {
      "text/plain": [
       "{'2023 MASTER SHEET': ['Score2023',\n",
       "  'Sprawdzenie',\n",
       "  'RevenueL9M',\n",
       "  'Rentowność2023',\n",
       "  'Mapping2023'],\n",
       " 'Cenniki merchantów 2023': ['Mapping2023',\n",
       "  'Mapping pozycji',\n",
       "  'Pozostałe pozycje merchantów 2023'],\n",
       " 'Mapping pozycji': [],\n",
       " 'Mapping2023': ['Sprawdzenie'],\n",
       " 'MASTER SHEET': [],\n",
       " 'Pozostałe pozycje merchantów 2023': ['Mapping pozycji',\n",
       "  'Cenniki merchantów'],\n",
       " 'Rentowność2023': [],\n",
       " 'RentownośćPerKurier2023': [],\n",
       " 'Szablon wyliczenia PL': ['Pozycje do zmiany',\n",
       "  'Mapping',\n",
       "  'Wyliczenia kurierów 2023',\n",
       "  'Marża kurier2024',\n",
       "  'Pozostałe pozycje merchantów 2023',\n",
       "  'MASTER SHEET',\n",
       "  'Mapping pozycji',\n",
       "  'RevenueL9M',\n",
       "  'RentownośćPerKurier2023',\n",
       "  'Rentowność2023',\n",
       "  '2023 MASTER SHEET',\n",
       "  'Cenniki merchantów 2023',\n",
       "  'Mapping2023'],\n",
       " 'Wyliczenia kurierów 2023': ['Mapping', 'Marża kurier']}"
      ]
     },
     "execution_count": 4,
     "metadata": {},
     "output_type": "execute_result"
    }
   ],
   "source": [
    "sheet_relations"
   ]
  },
  {
   "cell_type": "code",
   "execution_count": 5,
   "id": "89d6e44a-8b2c-452e-a8a5-338faa358bf1",
   "metadata": {},
   "outputs": [
    {
     "data": {
      "image/png": "[encoded data removed]",
      "text/plain": [
       "<Figure size 1400x1000 with 1 Axes>"
      ]
     },
     "metadata": {},
     "output_type": "display_data"
    }
   ],
   "source": [
    "#func\n",
    "sheet_name='Marża kurier'\n",
    "\n",
    "# Create a directed graph from dependencies\n",
    "G = nx.DiGraph()\n",
    "\n",
    "# Add nodes and edges from the dependencies\n",
    "for source, targets in sheet_relations.items():\n",
    "    if source == sheet_name:\n",
    "        G.add_node(source)  # Ensure all sources are added as nodes\n",
    "        for target in targets:\n",
    "            # Simplify target names to match source formatting for demonstration\n",
    "            simplified_target = target\n",
    "            G.add_edge(source, simplified_target)\n",
    "\n",
    "# Draw the graph\n",
    "plt.figure(figsize=(14, 10))\n",
    "pos = nx.spring_layout(G, seed=42)  # For consistent layout\n",
    "nx.draw(G, pos, with_labels=True, arrows=True, node_size=20000, node_color='lightblue', font_size=10, font_weight='bold')\n",
    "plt.title('Graph of Dependencies')\n",
    "plt.show()"
   ]
  },
  {
   "cell_type": "markdown",
   "id": "742c89f0-1314-4c78-a8f0-99498f4ed6a9",
   "metadata": {},
   "source": [
    "## Sheet and columns realation"
   ]
  },
  {
   "cell_type": "code",
   "execution_count": 6,
   "id": "f36ae66a-aef3-4475-8a90-ec9c4aefd385",
   "metadata": {
    "tags": []
   },
   "outputs": [],
   "source": [
    "def excel_column_name(n):\n",
    "    \"\"\"Generate Excel-like column names, given a column index starting from 1.\"\"\"\n",
    "    name = ''\n",
    "    while n > 0:\n",
    "        n, remainder = divmod(n - 1, 26)\n",
    "        name = chr(65 + remainder) + name\n",
    "    return name\n",
    "\n",
    "\n",
    "sheet_relations_col = {}\n",
    "\n",
    "for file_path in file_path_list:\n",
    "    # Read the file as a CSV with tab as the separator\n",
    "    df = pd.read_csv(file_path, sep='\\t', encoding='utf-8')\n",
    "    \n",
    "    # Initialize a temporary dictionary to hold references for the current sheet with Excel-like column names\n",
    "    current_sheet_references = {excel_column_name(i+1): set() for i in range(len(df.columns))}\n",
    "    \n",
    "    for i, col in enumerate(df.columns, start=1):\n",
    "        excel_col_name = excel_column_name(i)  # Get the Excel-like column name\n",
    "        \n",
    "        for cell in df[col]:\n",
    "            if pd.notnull(cell):  # Check if the cell is not NaN\n",
    "                # Find all references to other sheets in the cell\n",
    "                matches = re.findall(r\";'?[A-Za-z0-9\\sąćęłńóśżźĄĆĘŁŃÓŚŻŹ]+'?!\", str(cell))\n",
    "                \n",
    "                # Clean up the matches and add to the set for the column\n",
    "                clean_matches = {match.replace('\\'', '').replace('!', '').replace(';', '') for match in matches}\n",
    "                current_sheet_references[excel_col_name].update(clean_matches)\n",
    "    \n",
    "    # Remove empty entries and compile references across all columns for the current sheet\n",
    "    sheet_references = {col: list(refs) for col, refs in current_sheet_references.items() if refs}\n",
    "    \n",
    "    # Extract the sheet name from the file path and add to the main dictionary\n",
    "    sheet_name = file_path.split('/')[-1].replace('.txt', '')\n",
    "    sheet_relations_col[sheet_name] = sheet_references"
   ]
  },
  {
   "cell_type": "code",
   "execution_count": 8,
   "id": "649fa3f1-78c0-4fdb-9f51-3e6b6fb5f9bf",
   "metadata": {
    "tags": []
   },
   "outputs": [
    {
     "data": {
      "text/plain": [
       "{'2023 MASTER SHEET': {'B': ['Sprawdzenie'],\n",
       "  'C': ['Score2023'],\n",
       "  'D': ['Mapping2023'],\n",
       "  'G': ['Sprawdzenie'],\n",
       "  'H': ['Mapping2023'],\n",
       "  'I': ['RevenueL9M'],\n",
       "  'L': ['Rentowność2023']},\n",
       " 'Cenniki merchantów 2023': {'H': ['Mapping pozycji'],\n",
       "  'K': ['Mapping2023'],\n",
       "  'L': ['Mapping pozycji'],\n",
       "  'M': ['Mapping pozycji'],\n",
       "  'P': ['Mapping2023'],\n",
       "  'V': ['Pozostałe pozycje merchantów 2023']},\n",
       " 'Mapping pozycji': {},\n",
       " 'Mapping2023': {'G': ['Sprawdzenie'],\n",
       "  'J': ['Sprawdzenie'],\n",
       "  'L': ['Sprawdzenie'],\n",
       "  'CQ': ['Sprawdzenie']},\n",
       " 'MASTER SHEET': {},\n",
       " 'Pozostałe pozycje merchantów 2023': {'L': ['Mapping pozycji'],\n",
       "  'M': ['Mapping pozycji'],\n",
       "  'T': ['Cenniki merchantów']},\n",
       " 'Rentowność2023': {},\n",
       " 'RentownośćPerKurier2023': {},\n",
       " 'Szablon wyliczenia PL': {'A': ['2023 MASTER SHEET'],\n",
       "  'B': ['Mapping pozycji'],\n",
       "  'C': ['Mapping pozycji'],\n",
       "  'E': ['Mapping2023'],\n",
       "  'F': ['Mapping',\n",
       "   'Wyliczenia kurierów 2023',\n",
       "   'Cenniki merchantów 2023',\n",
       "   'Pozostałe pozycje merchantów 2023'],\n",
       "  'K': ['Rentowność2023', 'Mapping2023', 'MASTER SHEET'],\n",
       "  'L': ['Marża kurier2024', 'Rentowność2023', 'Mapping2023'],\n",
       "  'N': ['Rentowność2023', 'RentownośćPerKurier2023'],\n",
       "  'O': ['Rentowność2023'],\n",
       "  'P': ['Mapping', 'Wyliczenia kurierów 2023', 'Cenniki merchantów 2023'],\n",
       "  'AA': ['RevenueL9M'],\n",
       "  'AD': ['Pozycje do zmiany']},\n",
       " 'Wyliczenia kurierów 2023': {'L': ['Mapping'],\n",
       "  'N': ['Marża kurier'],\n",
       "  'Q': ['Mapping'],\n",
       "  'AF': ['Mapping'],\n",
       "  'AH': ['Marża kurier'],\n",
       "  'AK': ['Mapping']}}"
      ]
     },
     "execution_count": 8,
     "metadata": {},
     "output_type": "execute_result"
    }
   ],
   "source": [
    "# Output the collected relations\n",
    "# Define the filename where you want to save the dictionary\n",
    "filename = 'SheetRelationCol.json'\n",
    "\n",
    "# Open the file in write mode ('w') and serialize the dictionary to JSON\n",
    "with open(filename, 'w') as json_file:\n",
    "    json.dump(sheet_relations_col, json_file, indent=4)\n",
    "\n",
    "sheet_relations_col #dict"
   ]
  },
  {
   "cell_type": "code",
   "execution_count": null,
   "id": "91d9afe6-dbff-41db-aa27-6613a02d08ac",
   "metadata": {
    "tags": []
   },
   "outputs": [],
   "source": [
    "\n",
    "#func\n",
    "sheet_name='2023 MASTER SHEET'\n",
    "\n",
    "# Create a directed graph from dependencies\n",
    "G = nx.DiGraph()\n",
    "\n",
    "# Add nodes and edges from the dependencies\n",
    "for source, targets in sheet_relations_col.items():\n",
    "    if source == sheet_name:\n",
    "        G.add_node(source)  # Ensure all sources are added as nodes\n",
    "        for col, linked_sheet in targets.items():\n",
    "            # Simplify target names to match source formatting for demonstration\n",
    "            simplified_target = col\n",
    "            edge_label = '\\n'.join(linked_sheet)\n",
    "            G.add_edge(source, simplified_target, label=edge_label)\n",
    "\n",
    "# Draw the graph\n",
    "plt.figure(figsize=(14, 10))\n",
    "pos = nx.spring_layout(G, seed=42)  # For consistent layout\n",
    "\n",
    "nx.draw(G, pos, with_labels=True, arrows=True, node_size=7000, node_color='lightblue', font_size=10, font_weight='bold')\n",
    "# Draw edge labels\n",
    "edge_labels = nx.get_edge_attributes(G, 'label')\n",
    "#wrapped_edge_labels = wrap_labels(edge_labels, width=15)  # Adjust 'width' as needed\n",
    "\n",
    "nx.draw_networkx_edge_labels(G, pos, edge_labels=edge_labels)\n",
    "\n",
    "plt.title(sheet_name)\n",
    "plt.show()\n",
    "\n",
    "\n",
    "\n"
   ]
  },
  {
   "cell_type": "code",
   "execution_count": null,
   "id": "faab020c-7b6b-4de2-ae0f-7c6f43aed2b4",
   "metadata": {},
   "outputs": [],
   "source": []
  },
  {
   "cell_type": "code",
   "execution_count": null,
   "id": "7bb87912-cbcb-4bf1-be82-70b04e012ecb",
   "metadata": {},
   "outputs": [],
   "source": []
  }
 ],
 "metadata": {
  "kernelspec": {
   "display_name": "fullstack",
   "language": "python",
   "name": "fullstack"
  },
  "language_info": {
   "codemirror_mode": {
    "name": "ipython",
    "version": 3
   },
   "file_extension": ".py",
   "mimetype": "text/x-python",
   "name": "python",
   "nbconvert_exporter": "python",
   "pygments_lexer": "ipython3",
   "version": "3.11.5"
  }
 },
 "nbformat": 4,
 "nbformat_minor": 5
}
